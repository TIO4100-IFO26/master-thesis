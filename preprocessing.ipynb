{
  "nbformat": 4,
  "nbformat_minor": 0,
  "metadata": {
    "colab": {
      "name": "preprocessing.ipynb",
      "provenance": [],
      "collapsed_sections": [],
      "include_colab_link": true
    },
    "kernelspec": {
      "name": "python3",
      "display_name": "Python 3"
    },
    "language_info": {
      "name": "python"
    }
  },
  "cells": [
    {
      "cell_type": "markdown",
      "metadata": {
        "id": "view-in-github",
        "colab_type": "text"
      },
      "source": [
        "<a href=\"https://colab.research.google.com/github/TIO4100-IFO26/master-thesis/blob/main/preprocessing.ipynb\" target=\"_parent\"><img src=\"https://colab.research.google.com/assets/colab-badge.svg\" alt=\"Open In Colab\"/></a>"
      ]
    },
    {
      "cell_type": "markdown",
      "source": [
        "#**FUNKSJONER SOM BRUKES AV ALLE MODELLER**"
      ],
      "metadata": {
        "id": "O2weEFEi9Dwm"
      }
    },
    {
      "cell_type": "code",
      "source": [
        "def process():\n",
        "  dataset = pd.read_excel(\"/content/master-thesis/PredictorData2020.xlsx\", sheet_name =\"FirstSet\")\n",
        "  dataset['ERP_(t-1)'] = dataset['ERP'].shift(1)\n",
        "  dataset['ERP_(t+1)'] = dataset['ERP'].shift(-1)\n",
        "  #from 900:1790 are the dates 194601 to 202002\n",
        "  dataset = dataset.iloc[900:1790]\n",
        "  return dataset\n",
        "\n",
        "def update_predictors(dataset):\n",
        "  data = dataset.reset_index(drop=True).drop(['yyyymm'], axis=1)\n",
        "  for column in data:\n",
        "    if data[column].count()<60:\n",
        "      data = data.drop([column], axis=1)\n",
        "    else:\n",
        "      data[column]=data[column].interpolate(method='linear', limit_direction='backward')\n",
        "  return data"
      ],
      "metadata": {
        "id": "5y17zrySBVbb"
      },
      "execution_count": 8,
      "outputs": []
    }
  ]
}