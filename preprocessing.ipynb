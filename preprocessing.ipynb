{
  "nbformat": 4,
  "nbformat_minor": 0,
  "metadata": {
    "colab": {
      "name": "preprocessing.ipynb",
      "provenance": [],
      "collapsed_sections": [
        "pYOzjM_Ha4x6",
        "RSAWV55_ogsW",
        "ZViiHWKphxJt",
        "VDJR5GhHbhW0",
        "gQDsQ7Pjbqc-",
        "sYLo23etb1Ys",
        "K0Bc9Xppb6wC",
        "b-Ea_B0XcG7E",
        "cSe5SXqB-sAR"
      ],
      "include_colab_link": true
    },
    "kernelspec": {
      "name": "python3",
      "display_name": "Python 3"
    },
    "language_info": {
      "name": "python"
    }
  },
  "cells": [
    {
      "cell_type": "markdown",
      "metadata": {
        "id": "view-in-github",
        "colab_type": "text"
      },
      "source": [
        "<a href=\"https://colab.research.google.com/github/TIO4100-IFO26/master-thesis/blob/main/preprocessing.ipynb\" target=\"_parent\"><img src=\"https://colab.research.google.com/assets/colab-badge.svg\" alt=\"Open In Colab\"/></a>"
      ]
    },
    {
      "cell_type": "markdown",
      "source": [
        "**A Quantile Machine Learning Approach for Predicting the Equity Risk Premium**\n",
        "\n",
        "Notebook for masteroppgave 2022\n",
        "- Data hentes fra GitHub\n",
        "\n",
        "\n",
        "Mål:\n",
        "- Teste ut quantile machine learning for å predikere ERP, både ved å generere punktestimat og prediksjonsintervaller\n",
        "- Tester ut trebaserte algoritmer på grunn av begrenset data, samt at disse algoritmene har gitt gode resultater tidligere\n",
        "\n",
        "Motivasjon:\n",
        "- Sprikende resultater i litteraturen der både enkeltvariabler og kombinasjoner av variabler har vært forsøkt, samt metoder som lineære modeller, kvantilregresjon, nevrale nettverk, osv.\n",
        "\n",
        "Data:\n",
        "- Vi vil bruke et populært datasett benyttet av mange tidligere studier for å predikere ERP. \n",
        "\n",
        "Modeller:\n",
        "- Quantile regression forest (random forest med kvantilprediksjon)\n",
        "- Quantile gradient boosting\n",
        "- Historisk modell som basis\n",
        "\n",
        "Metode:\n",
        "- For hvert tidspunkt t (månedlig) vil vi beregne historisk median, mean, samt aktuelle kvantiler ved å bruke all tilgjengelig data på ERP bakover. Vi vil også trene QRF og QGB med all tilgjengelig data bakover.\n",
        "- For å trene maskinlæringsmodellene som baserer seg på tidsseriedata benytter vi walk-forward cross validation \n",
        "- Vi evaluerer predikatene ved å score punktestimatene med MAE og prediksjonsintervallene med interval score"
      ],
      "metadata": {
        "id": "S5FC6yxdJwmt"
      }
    },
    {
      "cell_type": "markdown",
      "source": [
        "# **Data fetch**"
      ],
      "metadata": {
        "id": "pYOzjM_Ha4x6"
      }
    },
    {
      "cell_type": "code",
      "source": [
        "!pip install --upgrade openpyxl\n",
        "!pip install --upgrade xlrd"
      ],
      "metadata": {
        "colab": {
          "base_uri": "https://localhost:8080/"
        },
        "id": "fxqUg-AzMtih",
        "outputId": "9c533fbd-320f-461e-c303-3a55ffb5a61e"
      },
      "execution_count": 1,
      "outputs": [
        {
          "output_type": "stream",
          "name": "stdout",
          "text": [
            "Requirement already satisfied: openpyxl in /usr/local/lib/python3.7/dist-packages (3.0.9)\n",
            "Requirement already satisfied: et-xmlfile in /usr/local/lib/python3.7/dist-packages (from openpyxl) (1.1.0)\n",
            "Requirement already satisfied: xlrd in /usr/local/lib/python3.7/dist-packages (1.1.0)\n",
            "Collecting xlrd\n",
            "  Downloading xlrd-2.0.1-py2.py3-none-any.whl (96 kB)\n",
            "\u001b[K     |████████████████████████████████| 96 kB 993 kB/s \n",
            "\u001b[?25hInstalling collected packages: xlrd\n",
            "  Attempting uninstall: xlrd\n",
            "    Found existing installation: xlrd 1.1.0\n",
            "    Uninstalling xlrd-1.1.0:\n",
            "      Successfully uninstalled xlrd-1.1.0\n",
            "Successfully installed xlrd-2.0.1\n"
          ]
        }
      ]
    },
    {
      "cell_type": "code",
      "source": [
        "!rm -r master-thesis"
      ],
      "metadata": {
        "id": "SCmFgsPSZ_6l",
        "colab": {
          "base_uri": "https://localhost:8080/"
        },
        "outputId": "a152439d-4375-44e5-dd5c-11c7c3fd3061"
      },
      "execution_count": 2,
      "outputs": [
        {
          "output_type": "stream",
          "name": "stdout",
          "text": [
            "rm: cannot remove 'master-thesis': No such file or directory\n"
          ]
        }
      ]
    },
    {
      "cell_type": "code",
      "execution_count": 3,
      "metadata": {
        "id": "_l3miDENJuua"
      },
      "outputs": [],
      "source": [
        "#Data fra GitHub\n",
        "\n",
        "!git clone --depth=2 -q https://github.com/TIO4100-IFO26/master-thesis.git"
      ]
    },
    {
      "cell_type": "code",
      "source": [
        "import pandas as pd\n",
        "import numpy as np\n",
        "dataset = pd.read_excel(\"/content/master-thesis/PredictorData2020.xlsx\", sheet_name =\"FirstSet\")"
      ],
      "metadata": {
        "id": "sYm8QsUCenQb",
        "colab": {
          "base_uri": "https://localhost:8080/"
        },
        "outputId": "17e03b67-48de-4a06-a9ab-647ab5698a43"
      },
      "execution_count": 4,
      "outputs": [
        {
          "output_type": "stream",
          "name": "stderr",
          "text": [
            "/usr/local/lib/python3.7/dist-packages/openpyxl/worksheet/header_footer.py:48: UserWarning: Cannot parse header or footer so it will be ignored\n",
            "  warn(\"\"\"Cannot parse header or footer so it will be ignored\"\"\")\n"
          ]
        }
      ]
    },
    {
      "cell_type": "code",
      "source": [
        "dataset.head()\n",
        "dataset.count()"
      ],
      "metadata": {
        "id": "k2OgTwdLHXgL",
        "colab": {
          "base_uri": "https://localhost:8080/"
        },
        "outputId": "b06c0c43-43da-49d8-9df8-459397ba7f5c"
      },
      "execution_count": 5,
      "outputs": [
        {
          "output_type": "execute_result",
          "data": {
            "text/plain": [
              "yyyymm                            1800\n",
              "Index                             1800\n",
              "D12                               1800\n",
              "E12                               1800\n",
              "AAA                               1224\n",
              "BAA                               1224\n",
              "Rfree                             1799\n",
              "Rate GS10 from Robert Schiller    1800\n",
              "CRSP_SPvw                         1140\n",
              "CRSP_SPvwx                        1140\n",
              "IndexReturn                       1799\n",
              "ERP                               1212\n",
              "bm                                1198\n",
              "tbl                               1212\n",
              "lty                               1224\n",
              "ntis                              1129\n",
              "infl                              1295\n",
              "ltr                               1140\n",
              "corpr                             1140\n",
              "svar                              1631\n",
              "DP                                1800\n",
              "DY                                1799\n",
              "EP                                1800\n",
              "DE                                1800\n",
              "TMS                               1212\n",
              "DFY                               1224\n",
              "DFR                               1140\n",
              "YGAP                              1800\n",
              "tchi                               840\n",
              "ogap                              1236\n",
              "rdsp                              1144\n",
              "csp                                788\n",
              "VRP                                372\n",
              "wtexas                             431\n",
              "sntm                               642\n",
              "ndrbl                              359\n",
              "house                             1104\n",
              "gip                               1235\n",
              "gpce                               897\n",
              "dtoy                               589\n",
              "dtoat                              589\n",
              "cay                                828\n",
              "ik                                 888\n",
              "dtoat.1                           1128\n",
              "dtype: int64"
            ]
          },
          "metadata": {},
          "execution_count": 5
        }
      ]
    },
    {
      "cell_type": "code",
      "source": [
        "#gw_original.insert(len(gw_original.columns),\"Log_return\",np.log((gw_original.Index+gw_original.D12)/gw_original.Index.shift(1)))\n",
        "#gw_original.insert(len(gw_original.columns), \"tbl_logRet\", gw_original.tbl.pct_change(1))\n",
        "#gw_original.insert(len(gw_original.columns), \"ERP\", gw_original.Log_return-gw_original.tbl_logRet)\n",
        "#dataset.drop(dataset[dataset['ERP']< -20].index , inplace=True)"
      ],
      "metadata": {
        "id": "7iZN-hJDmV58"
      },
      "execution_count": 6,
      "outputs": []
    },
    {
      "cell_type": "code",
      "source": [
        "import matplotlib.pyplot as plt\n",
        "dataset.plot(kind='line',x='yyyymm',y='ERP',color='red')\n",
        "plt.show()"
      ],
      "metadata": {
        "id": "ffqgPnOzFFpr",
        "colab": {
          "base_uri": "https://localhost:8080/",
          "height": 279
        },
        "outputId": "1417bb3f-a62f-4c0e-b1d0-2f33435d81d6"
      },
      "execution_count": 7,
      "outputs": [
        {
          "output_type": "display_data",
          "data": {
            "text/plain": [
              "<Figure size 432x288 with 1 Axes>"
            ],
            "image/png": "[encoded data removed]"
          },
          "metadata": {
            "needs_background": "light"
          }
        }
      ]
    },
    {
      "cell_type": "markdown",
      "source": [
        "## **PCA for the technical indicators**\n",
        "\n",
        "- to calculate the predictor \"tchi\" from Goyal and Welch 2 (2021)"
      ],
      "metadata": {
        "id": "RSAWV55_ogsW"
      }
    },
    {
      "cell_type": "code",
      "source": [
        "# importing required libraries\n",
        "import numpy as np\n",
        "import matplotlib.pyplot as plt\n",
        "import pandas as pd"
      ],
      "metadata": {
        "id": "caj4wl7pogHQ"
      },
      "execution_count": 8,
      "outputs": []
    },
    {
      "cell_type": "code",
      "source": [
        "def clean_dataset(df):\n",
        "    assert isinstance(df, pd.DataFrame), \"df needs to be a pd.DataFrame\"\n",
        "    df.dropna(inplace=True)\n",
        "    indices_to_keep = ~df.isin([np.nan, np.inf, -np.inf]).any(1)\n",
        "    return df[indices_to_keep].astype(np.float64)\n",
        "\n",
        "#clean_dataset(dataset)"
      ],
      "metadata": {
        "id": "HtTf3t8nlbl5"
      },
      "execution_count": 9,
      "outputs": []
    },
    {
      "cell_type": "code",
      "source": [
        "# importing or loading the dataset\n",
        "# dataset = pd.read_excel('PredictorData2020.xlsx', sheet_name='Ark1', header=1)\n",
        " \n",
        "# distributing the dataset into two components X and Y\n",
        "X = dataset.iloc[959:, 12:43].values #feil\n",
        "y = dataset.iloc[959:, 11].values #feil\n",
        "\n",
        "#print(dataset)\n",
        "#print(X)\n",
        "#print(y)"
      ],
      "metadata": {
        "id": "dsB31WXUotrq"
      },
      "execution_count": 10,
      "outputs": []
    },
    {
      "cell_type": "code",
      "source": [
        "# performing preprocessing part\n",
        "from sklearn.preprocessing import StandardScaler\n",
        "sc = StandardScaler()\n",
        " \n",
        "X = sc.fit_transform(X)\n",
        "#X_test = sc.transform(X_test)"
      ],
      "metadata": {
        "id": "nld7NEjpswzN"
      },
      "execution_count": 11,
      "outputs": []
    },
    {
      "cell_type": "code",
      "source": [
        "# Applying PCA function on training\n",
        "# and testing set of X component\n",
        "from sklearn.decomposition import PCA\n",
        " \n",
        "pca = PCA(n_components = 1)\n",
        " \n",
        "X = pca.fit_transform(X)\n",
        "#X_test = pca.transform(X_test)\n",
        " \n",
        "explained_variance = pca.explained_variance_ratio_"
      ],
      "metadata": {
        "id": "9HJhAUGJo-cD",
        "outputId": "0f3b12b4-7382-4296-c502-cdf7baa50209",
        "colab": {
          "base_uri": "https://localhost:8080/",
          "height": 380
        }
      },
      "execution_count": 12,
      "outputs": [
        {
          "output_type": "error",
          "ename": "ValueError",
          "evalue": "ignored",
          "traceback": [
            "\u001b[0;31m---------------------------------------------------------------------------\u001b[0m",
            "\u001b[0;31mValueError\u001b[0m                                Traceback (most recent call last)",
            "\u001b[0;32m<ipython-input-12-d0d5d7bfe448>\u001b[0m in \u001b[0;36m<module>\u001b[0;34m()\u001b[0m\n\u001b[1;32m      5\u001b[0m \u001b[0mpca\u001b[0m \u001b[0;34m=\u001b[0m \u001b[0mPCA\u001b[0m\u001b[0;34m(\u001b[0m\u001b[0mn_components\u001b[0m \u001b[0;34m=\u001b[0m \u001b[0;36m1\u001b[0m\u001b[0;34m)\u001b[0m\u001b[0;34m\u001b[0m\u001b[0;34m\u001b[0m\u001b[0m\n\u001b[1;32m      6\u001b[0m \u001b[0;34m\u001b[0m\u001b[0m\n\u001b[0;32m----> 7\u001b[0;31m \u001b[0mX\u001b[0m \u001b[0;34m=\u001b[0m \u001b[0mpca\u001b[0m\u001b[0;34m.\u001b[0m\u001b[0mfit_transform\u001b[0m\u001b[0;34m(\u001b[0m\u001b[0mX\u001b[0m\u001b[0;34m)\u001b[0m\u001b[0;34m\u001b[0m\u001b[0;34m\u001b[0m\u001b[0m\n\u001b[0m\u001b[1;32m      8\u001b[0m \u001b[0;31m#X_test = pca.transform(X_test)\u001b[0m\u001b[0;34m\u001b[0m\u001b[0;34m\u001b[0m\u001b[0;34m\u001b[0m\u001b[0m\n\u001b[1;32m      9\u001b[0m \u001b[0;34m\u001b[0m\u001b[0m\n",
            "\u001b[0;32m/usr/local/lib/python3.7/dist-packages/sklearn/decomposition/_pca.py\u001b[0m in \u001b[0;36mfit_transform\u001b[0;34m(self, X, y)\u001b[0m\n\u001b[1;32m    405\u001b[0m         \u001b[0mC\u001b[0m\u001b[0;34m-\u001b[0m\u001b[0mordered\u001b[0m \u001b[0marray\u001b[0m\u001b[0;34m,\u001b[0m \u001b[0muse\u001b[0m \u001b[0;34m'np.ascontiguousarray'\u001b[0m\u001b[0;34m.\u001b[0m\u001b[0;34m\u001b[0m\u001b[0;34m\u001b[0m\u001b[0m\n\u001b[1;32m    406\u001b[0m         \"\"\"\n\u001b[0;32m--> 407\u001b[0;31m         \u001b[0mU\u001b[0m\u001b[0;34m,\u001b[0m \u001b[0mS\u001b[0m\u001b[0;34m,\u001b[0m \u001b[0mVt\u001b[0m \u001b[0;34m=\u001b[0m \u001b[0mself\u001b[0m\u001b[0;34m.\u001b[0m\u001b[0m_fit\u001b[0m\u001b[0;34m(\u001b[0m\u001b[0mX\u001b[0m\u001b[0;34m)\u001b[0m\u001b[0;34m\u001b[0m\u001b[0;34m\u001b[0m\u001b[0m\n\u001b[0m\u001b[1;32m    408\u001b[0m         \u001b[0mU\u001b[0m \u001b[0;34m=\u001b[0m \u001b[0mU\u001b[0m\u001b[0;34m[\u001b[0m\u001b[0;34m:\u001b[0m\u001b[0;34m,\u001b[0m \u001b[0;34m:\u001b[0m \u001b[0mself\u001b[0m\u001b[0;34m.\u001b[0m\u001b[0mn_components_\u001b[0m\u001b[0;34m]\u001b[0m\u001b[0;34m\u001b[0m\u001b[0;34m\u001b[0m\u001b[0m\n\u001b[1;32m    409\u001b[0m \u001b[0;34m\u001b[0m\u001b[0m\n",
            "\u001b[0;32m/usr/local/lib/python3.7/dist-packages/sklearn/decomposition/_pca.py\u001b[0m in \u001b[0;36m_fit\u001b[0;34m(self, X)\u001b[0m\n\u001b[1;32m    429\u001b[0m \u001b[0;34m\u001b[0m\u001b[0m\n\u001b[1;32m    430\u001b[0m         X = self._validate_data(\n\u001b[0;32m--> 431\u001b[0;31m             \u001b[0mX\u001b[0m\u001b[0;34m,\u001b[0m \u001b[0mdtype\u001b[0m\u001b[0;34m=\u001b[0m\u001b[0;34m[\u001b[0m\u001b[0mnp\u001b[0m\u001b[0;34m.\u001b[0m\u001b[0mfloat64\u001b[0m\u001b[0;34m,\u001b[0m \u001b[0mnp\u001b[0m\u001b[0;34m.\u001b[0m\u001b[0mfloat32\u001b[0m\u001b[0;34m]\u001b[0m\u001b[0;34m,\u001b[0m \u001b[0mensure_2d\u001b[0m\u001b[0;34m=\u001b[0m\u001b[0;32mTrue\u001b[0m\u001b[0;34m,\u001b[0m \u001b[0mcopy\u001b[0m\u001b[0;34m=\u001b[0m\u001b[0mself\u001b[0m\u001b[0;34m.\u001b[0m\u001b[0mcopy\u001b[0m\u001b[0;34m\u001b[0m\u001b[0;34m\u001b[0m\u001b[0m\n\u001b[0m\u001b[1;32m    432\u001b[0m         )\n\u001b[1;32m    433\u001b[0m \u001b[0;34m\u001b[0m\u001b[0m\n",
            "\u001b[0;32m/usr/local/lib/python3.7/dist-packages/sklearn/base.py\u001b[0m in \u001b[0;36m_validate_data\u001b[0;34m(self, X, y, reset, validate_separately, **check_params)\u001b[0m\n\u001b[1;32m    564\u001b[0m             \u001b[0;32mraise\u001b[0m \u001b[0mValueError\u001b[0m\u001b[0;34m(\u001b[0m\u001b[0;34m\"Validation should be done on X, y or both.\"\u001b[0m\u001b[0;34m)\u001b[0m\u001b[0;34m\u001b[0m\u001b[0;34m\u001b[0m\u001b[0m\n\u001b[1;32m    565\u001b[0m         \u001b[0;32melif\u001b[0m \u001b[0;32mnot\u001b[0m \u001b[0mno_val_X\u001b[0m \u001b[0;32mand\u001b[0m \u001b[0mno_val_y\u001b[0m\u001b[0;34m:\u001b[0m\u001b[0;34m\u001b[0m\u001b[0;34m\u001b[0m\u001b[0m\n\u001b[0;32m--> 566\u001b[0;31m             \u001b[0mX\u001b[0m \u001b[0;34m=\u001b[0m \u001b[0mcheck_array\u001b[0m\u001b[0;34m(\u001b[0m\u001b[0mX\u001b[0m\u001b[0;34m,\u001b[0m \u001b[0;34m**\u001b[0m\u001b[0mcheck_params\u001b[0m\u001b[0;34m)\u001b[0m\u001b[0;34m\u001b[0m\u001b[0;34m\u001b[0m\u001b[0m\n\u001b[0m\u001b[1;32m    567\u001b[0m             \u001b[0mout\u001b[0m \u001b[0;34m=\u001b[0m \u001b[0mX\u001b[0m\u001b[0;34m\u001b[0m\u001b[0;34m\u001b[0m\u001b[0m\n\u001b[1;32m    568\u001b[0m         \u001b[0;32melif\u001b[0m \u001b[0mno_val_X\u001b[0m \u001b[0;32mand\u001b[0m \u001b[0;32mnot\u001b[0m \u001b[0mno_val_y\u001b[0m\u001b[0;34m:\u001b[0m\u001b[0;34m\u001b[0m\u001b[0;34m\u001b[0m\u001b[0m\n",
            "\u001b[0;32m/usr/local/lib/python3.7/dist-packages/sklearn/utils/validation.py\u001b[0m in \u001b[0;36mcheck_array\u001b[0;34m(array, accept_sparse, accept_large_sparse, dtype, order, copy, force_all_finite, ensure_2d, allow_nd, ensure_min_samples, ensure_min_features, estimator)\u001b[0m\n\u001b[1;32m    798\u001b[0m \u001b[0;34m\u001b[0m\u001b[0m\n\u001b[1;32m    799\u001b[0m         \u001b[0;32mif\u001b[0m \u001b[0mforce_all_finite\u001b[0m\u001b[0;34m:\u001b[0m\u001b[0;34m\u001b[0m\u001b[0;34m\u001b[0m\u001b[0m\n\u001b[0;32m--> 800\u001b[0;31m             \u001b[0m_assert_all_finite\u001b[0m\u001b[0;34m(\u001b[0m\u001b[0marray\u001b[0m\u001b[0;34m,\u001b[0m \u001b[0mallow_nan\u001b[0m\u001b[0;34m=\u001b[0m\u001b[0mforce_all_finite\u001b[0m \u001b[0;34m==\u001b[0m \u001b[0;34m\"allow-nan\"\u001b[0m\u001b[0;34m)\u001b[0m\u001b[0;34m\u001b[0m\u001b[0;34m\u001b[0m\u001b[0m\n\u001b[0m\u001b[1;32m    801\u001b[0m \u001b[0;34m\u001b[0m\u001b[0m\n\u001b[1;32m    802\u001b[0m     \u001b[0;32mif\u001b[0m \u001b[0mensure_min_samples\u001b[0m \u001b[0;34m>\u001b[0m \u001b[0;36m0\u001b[0m\u001b[0;34m:\u001b[0m\u001b[0;34m\u001b[0m\u001b[0;34m\u001b[0m\u001b[0m\n",
            "\u001b[0;32m/usr/local/lib/python3.7/dist-packages/sklearn/utils/validation.py\u001b[0m in \u001b[0;36m_assert_all_finite\u001b[0;34m(X, allow_nan, msg_dtype)\u001b[0m\n\u001b[1;32m    114\u001b[0m             raise ValueError(\n\u001b[1;32m    115\u001b[0m                 msg_err.format(\n\u001b[0;32m--> 116\u001b[0;31m                     \u001b[0mtype_err\u001b[0m\u001b[0;34m,\u001b[0m \u001b[0mmsg_dtype\u001b[0m \u001b[0;32mif\u001b[0m \u001b[0mmsg_dtype\u001b[0m \u001b[0;32mis\u001b[0m \u001b[0;32mnot\u001b[0m \u001b[0;32mNone\u001b[0m \u001b[0;32melse\u001b[0m \u001b[0mX\u001b[0m\u001b[0;34m.\u001b[0m\u001b[0mdtype\u001b[0m\u001b[0;34m\u001b[0m\u001b[0;34m\u001b[0m\u001b[0m\n\u001b[0m\u001b[1;32m    117\u001b[0m                 )\n\u001b[1;32m    118\u001b[0m             )\n",
            "\u001b[0;31mValueError\u001b[0m: Input contains NaN, infinity or a value too large for dtype('float64')."
          ]
        }
      ]
    },
    {
      "cell_type": "code",
      "source": [
        "print(explained_variance)\n",
        "#print(X)\n",
        "pd.DataFrame(X).to_excel('output.xlsx')"
      ],
      "metadata": {
        "id": "T-8Ra-GYM5Gn"
      },
      "execution_count": null,
      "outputs": []
    },
    {
      "cell_type": "code",
      "source": [
        "def tchi(row_nr, X):\n",
        "  technical_indicators = pd.read_excel(\"/content/master-thesis/PredictorData2020.xlsx\", sheet_name =\"tchi\")\n",
        "  sc = StandardScaler()\n",
        "  X = sc.fit_transform(X)\n",
        "  pca = PCA(n_components = 1)\n",
        "  X = pca.fit_transform(X)\n",
        "  return X"
      ],
      "metadata": {
        "id": "2GPxKTIvHQHv"
      },
      "execution_count": null,
      "outputs": []
    },
    {
      "cell_type": "markdown",
      "source": [
        "# **Models**"
      ],
      "metadata": {
        "id": "2p9zpXU6bIw-"
      }
    },
    {
      "cell_type": "markdown",
      "source": [
        "## intro"
      ],
      "metadata": {
        "id": "ZViiHWKphxJt"
      }
    },
    {
      "cell_type": "code",
      "source": [
        "import statsmodels.api as sm\n",
        "import statsmodels.formula.api as smf\n",
        "from sklearn import metrics\n",
        "from sklearn.model_selection import train_test_split\n",
        "from sklearn.linear_model import LinearRegression\n",
        "from sklearn.metrics import mean_squared_error"
      ],
      "metadata": {
        "id": "zqt8ska-bMRn",
        "colab": {
          "base_uri": "https://localhost:8080/"
        },
        "outputId": "8a48d8e9-e1f9-4e3c-97ff-fb8cef4e1ade"
      },
      "execution_count": 13,
      "outputs": [
        {
          "output_type": "stream",
          "name": "stderr",
          "text": [
            "/usr/local/lib/python3.7/dist-packages/statsmodels/tools/_testing.py:19: FutureWarning: pandas.util.testing is deprecated. Use the functions in the public API at pandas.testing instead.\n",
            "  import pandas.util.testing as tm\n"
          ]
        }
      ]
    },
    {
      "cell_type": "code",
      "source": [
        "dataset['ERP_(t-1)'] = dataset['ERP'].shift(1)\n",
        "dataset['ERP_(t+1)'] = dataset['ERP'].shift(-1)\n",
        "#type: numpy array\n",
        "ERP = dataset.iloc[960:1800,45]\n",
        "X = dataset.iloc[960:1800,12:45]\n",
        "ALL = dataset.iloc[960:1800,11:45]"
      ],
      "metadata": {
        "id": "6ATdfWEJbcP5"
      },
      "execution_count": 14,
      "outputs": []
    },
    {
      "cell_type": "code",
      "source": [
        "ERP = np.nan_to_num(ERP)\n",
        "X = np.nan_to_num(X)\n",
        "ALL = np.nan_to_num(ALL)"
      ],
      "metadata": {
        "id": "3tHdomlGpaNG"
      },
      "execution_count": 15,
      "outputs": []
    },
    {
      "cell_type": "code",
      "source": [
        "#Devide the dataset into train and test subsets\n",
        "X_train, X_test, y_train, y_test = train_test_split(X, ERP, test_size=0.20, random_state=42)\n",
        "X_train = np.nan_to_num(X_train)\n",
        "y_train = np.nan_to_num(y_train)\n",
        "X_test = np.nan_to_num(X_test)\n",
        "y_test = np.nan_to_num(y_test)\n",
        "\n",
        "#type: pandas dataframe\n",
        "X_test_df = pd.DataFrame(X_test, columns = dataset.columns[12:45])"
      ],
      "metadata": {
        "id": "rmmnklP2PTm9"
      },
      "execution_count": 16,
      "outputs": []
    }
  ]
}