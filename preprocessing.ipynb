{
  "nbformat": 4,
  "nbformat_minor": 0,
  "metadata": {
    "colab": {
      "name": "preprocessing.ipynb",
      "provenance": [],
      "collapsed_sections": [],
      "include_colab_link": true
    },
    "kernelspec": {
      "name": "python3",
      "display_name": "Python 3"
    },
    "language_info": {
      "name": "python"
    }
  },
  "cells": [
    {
      "cell_type": "markdown",
      "metadata": {
        "id": "view-in-github",
        "colab_type": "text"
      },
      "source": [
        "<a href=\"https://colab.research.google.com/github/TIO4100-IFO26/master-thesis/blob/main/preprocessing.ipynb\" target=\"_parent\"><img src=\"https://colab.research.google.com/assets/colab-badge.svg\" alt=\"Open In Colab\"/></a>"
      ]
    },
    {
      "cell_type": "code",
      "source": [
        "import statsmodels.api as sm\n",
        "import statsmodels.formula.api as smf\n",
        "from sklearn import metrics\n",
        "from sklearn.model_selection import train_test_split\n",
        "from sklearn.linear_model import LinearRegression\n",
        "from sklearn.metrics import mean_squared_error\n",
        "\n",
        "import pandas as pd\n",
        "import numpy as np\n",
        "dataset = pd.read_excel(\"/content/master-thesis/PredictorData2020.xlsx\", sheet_name =\"FirstSet\")\n",
        "\n",
        "def process():\n",
        "  dataset['ERP_(t-1)'] = dataset['ERP'].shift(1)\n",
        "  dataset['ERP_(t+1)'] = dataset['ERP'].shift(-1)\n",
        "  #type: numpy array\n",
        "  ERP = dataset.iloc[960:1800,45]\n",
        "  X = dataset.iloc[960:1800,12:45]\n",
        "  ALL = dataset.iloc[960:1800,11:45]\n",
        "\n",
        "  ERP = np.nan_to_num(ERP)\n",
        "  X = np.nan_to_num(X)\n",
        "  ALL = np.nan_to_num(ALL)\n",
        "\n",
        "  #Devide the dataset into train and test subsets\n",
        "  X_train, X_test, y_train, y_test = train_test_split(X, ERP, test_size=0.20, random_state=42)\n",
        "  X_train = np.nan_to_num(X_train)\n",
        "  y_train = np.nan_to_num(y_train)\n",
        "  X_test = np.nan_to_num(X_test)\n",
        "  y_test = np.nan_to_num(y_test)\n",
        "\n",
        "  #type: pandas dataframe\n",
        "  X_test_df = pd.DataFrame(X_test, columns = dataset.columns[12:45])\n",
        "  return X_train, X_test, y_train, y_test, X_test_df\n"
      ],
      "metadata": {
        "id": "zqt8ska-bMRn"
      },
      "execution_count": 12,
      "outputs": []
    }
  ]
}